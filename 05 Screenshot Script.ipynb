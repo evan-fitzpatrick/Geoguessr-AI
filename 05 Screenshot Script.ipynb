{
 "cells": [
  {
   "cell_type": "markdown",
   "id": "77502aa7-c889-42b3-b7da-a958baf1c1f3",
   "metadata": {},
   "source": [
    "A short script to automate taking screenshots of a geoguessr location to be used by the AI."
   ]
  },
  {
   "cell_type": "code",
   "execution_count": 1,
   "id": "023fda44-b7c5-42ef-aad0-7ba94bd39130",
   "metadata": {},
   "outputs": [],
   "source": [
    "import numpy as np\n",
    "import cv2\n",
    "import pyautogui\n",
    "import time\n",
    "from PIL import Image\n",
    "import keyboard"
   ]
  },
  {
   "cell_type": "code",
   "execution_count": 2,
   "id": "e89bcb33-4996-4fbf-837c-deade2cbc05b",
   "metadata": {},
   "outputs": [],
   "source": [
    "image = pyautogui.screenshot()"
   ]
  },
  {
   "cell_type": "code",
   "execution_count": 3,
   "id": "4d48bb49-6e7b-4ea7-83a7-e528208c5c16",
   "metadata": {},
   "outputs": [],
   "source": [
    "location = 1"
   ]
  },
  {
   "cell_type": "code",
   "execution_count": 27,
   "id": "18670a76-4586-4a00-b0eb-d70e93623afe",
   "metadata": {},
   "outputs": [],
   "source": [
    "for i in range(25):\n",
    "    image = pyautogui.screenshot()\n",
    "    image = Image.fromarray(np.array(image)[200:-80, 200:-200])\n",
    "    image.save(f'Games/loc/{i}.jpg')\n",
    "    time.sleep(1)"
   ]
  },
  {
   "cell_type": "code",
   "execution_count": 5,
   "id": "1d49ae4c-4afa-4f23-86f4-c673a4cec4eb",
   "metadata": {},
   "outputs": [],
   "source": [
    "numImages = 0\n",
    "while True:\n",
    "    try:\n",
    "        if keyboard.is_pressed('`'):\n",
    "            image = pyautogui.screenshot()\n",
    "            image = Image.fromarray(np.array(image)[200:-80, 200:-200])\n",
    "            image.save(f'Games/loc/{numImages}.jpg')\n",
    "            numImages += 1\n",
    "            time.sleep(0.25)\n",
    "        if keyboard.is_pressed('esc'):\n",
    "            break\n",
    "    except:\n",
    "        break"
   ]
  },
  {
   "cell_type": "markdown",
   "id": "2a6d3364-ad69-4e02-90f2-e15033b3d522",
   "metadata": {},
   "source": [
    "## "
   ]
  }
 ],
 "metadata": {
  "kernelspec": {
   "display_name": "Python 3 (ipykernel)",
   "language": "python",
   "name": "python3"
  },
  "language_info": {
   "codemirror_mode": {
    "name": "ipython",
    "version": 3
   },
   "file_extension": ".py",
   "mimetype": "text/x-python",
   "name": "python",
   "nbconvert_exporter": "python",
   "pygments_lexer": "ipython3",
   "version": "3.9.12"
  }
 },
 "nbformat": 4,
 "nbformat_minor": 5
}
